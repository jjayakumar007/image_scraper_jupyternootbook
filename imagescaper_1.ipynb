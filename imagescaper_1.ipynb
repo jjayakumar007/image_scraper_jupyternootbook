{
 "cells": [
  {
   "cell_type": "code",
   "execution_count": 21,
   "id": "82771ea1-e198-4169-931f-833799871798",
   "metadata": {},
   "outputs": [],
   "source": [
    "import requests\n",
    "import logging\n",
    "import os\n",
    "from bs4 import BeautifulSoup\n",
    "from urllib.request import urlopen"
   ]
  },
  {
   "cell_type": "code",
   "execution_count": 22,
   "id": "42d1105e-1e93-4763-bbb5-fa7c93fd95f7",
   "metadata": {},
   "outputs": [],
   "source": [
    "save_dir=\"images/\"\n",
    "if not os.path.exists(save_dir):\n",
    "    os.makedirs(save_dir)\n"
   ]
  },
  {
   "cell_type": "code",
   "execution_count": 23,
   "id": "0f18eb04-f0fc-4e47-8ca1-6d4626daab0a",
   "metadata": {},
   "outputs": [],
   "source": [
    "query=\"padayappa toy\"\n",
    "#url=https://www.google.com/search?q=query&tbm=isch&ved=2ahUKEwj3i_P1hvuAAxVWzaACHeMVCQQQ2-cCegQIABAA&oq=raji&gs_lcp=CgNpbWcQARgCMgcIABCKBRBDMgcIABCKBRBDMg0IABCKBRCxAxCDARBDMgcIABCKBRBDMggIABCABBCxAzIICAAQgAQQsQMyBwgAEIoFEEMyBwgAEIoFEEMyBwgAEIoFEEMyCAgAEIAEELEDOgQIIxAnOgcIIxDqAhAnOgsIABCABBCxAxCDAToFCAAQgAQ6CAgAELEDEIMBUN0bWJ9CYIdcaANwAHgAgAHzAYgB_AqSAQUwLjMuNJgBAKABAaoBC2d3cy13aXotaW1nsAECwAEB&sclient=img&ei=zVHqZLfxOdaag8UP46ukIA&bih=739&biw=1536&rlz=1C1CHBD_enIN1040IN1040"
   ]
  },
  {
   "cell_type": "code",
   "execution_count": 24,
   "id": "70d20a2f-b6c1-4d26-ae82-4602fb227a09",
   "metadata": {},
   "outputs": [],
   "source": [
    "response=requests.get(f\"https://www.google.com/search?q={query}&tbm=isch&ved=2ahUKEwj3i_P1hvuAAxVWzaACHeMVCQQQ2-cCegQIABAA&oq=raji&gs_lcp=CgNpbWcQARgCMgcIABCKBRBDMgcIABCKBRBDMg0IABCKBRCxAxCDARBDMgcIABCKBRBDMggIABCABBCxAzIICAAQgAQQsQMyBwgAEIoFEEMyBwgAEIoFEEMyBwgAEIoFEEMyCAgAEIAEELEDOgQIIxAnOgcIIxDqAhAnOgsIABCABBCxAxCDAToFCAAQgAQ6CAgAELEDEIMBUN0bWJ9CYIdcaANwAHgAgAHzAYgB_AqSAQUwLjMuNJgBAKABAaoBC2d3cy13aXotaW1nsAECwAEB&sclient=img&ei=zVHqZLfxOdaag8UP46ukIA&bih=739&biw=1536&rlz=1C1CHBD_enIN1040IN1040\")"
   ]
  },
  {
   "cell_type": "code",
   "execution_count": 25,
   "id": "f4832f66-5b4f-4918-89ef-4b949fc46eb3",
   "metadata": {},
   "outputs": [
    {
     "data": {
      "text/plain": [
       "<Response [200]>"
      ]
     },
     "execution_count": 25,
     "metadata": {},
     "output_type": "execute_result"
    }
   ],
   "source": [
    "response"
   ]
  },
  {
   "cell_type": "code",
   "execution_count": 26,
   "id": "e10aa1c5-5dae-46cc-bc96-5df20e9d8efa",
   "metadata": {},
   "outputs": [],
   "source": [
    "soup=BeautifulSoup(response.content,\"html.parser\")"
   ]
  },
  {
   "cell_type": "code",
   "execution_count": 27,
   "id": "ad39752a-2235-40e2-bafe-bc1693b68de7",
   "metadata": {},
   "outputs": [
    {
     "data": {
      "text/plain": [
       "<!DOCTYPE html PUBLIC \"-//WAPFORUM//DTD XHTML Mobile 1.0//EN\" \"http://www.wapforum.org/DTD/xhtml-mobile10.dtd\">\n",
       "<html lang=\"en-IN\" xmlns=\"http://www.w3.org/1999/xhtml\"><head><meta content=\"application/xhtml+xml; charset=utf-8\" http-equiv=\"Content-Type\"/><meta content=\"no-cache\" name=\"Cache-Control\"/><title>padayappa toy - Google Search</title><style>a{text-decoration:none;color:inherit}a:hover{text-decoration:underline}a img{border:0}body{font-family:arial,sans-serif;padding:8px;margin:0 auto;max-width:700px;min-width:240px;}.FbhRzb{border-left:thin solid #dadce0;border-right:thin solid #dadce0;border-top:thin solid #dadce0;height:40px;overflow:hidden}.n692Zd{margin-bottom:10px}.cvifge{height:40px;border-spacing:0}.QvGUP{height:40px;padding:0 8px 0 8px;vertical-align:top}.O4cRJf{height:40px;width:100%;padding:0;padding-right:16px}.O1ePr{height:40px;padding:0;vertical-align:top}.kgJEQe{height:36px;width:98px;vertical-align:top;margin-top:4px}.lXLRf{vertical-align:top}.MhzMZd{border:0;vertical-align:middle;font-size:14px;height:40px;padding:0;width:100%;padding-left:16px}.xB0fq{height:40px;border:none;font-size:14px;background-color:#1a73e8;color:#fff;padding:0 16px;margin:0;vertical-align:top;cursor:pointer}.xB0fq:focus{border:1px solid #1a73e8}.M7pB2{border:thin solid #dadce0;margin:0 0 3px 0;font-size:13px;font-weight:500;height:40px}.euZec{width:100%;height:40px;text-align:center;border-spacing:0}table.euZec td{padding:0;width:25%}.QIqI7{display:inline-block;padding-top:4px;font-weight:bold;color:#4285f4}.EY24We{border-bottom:2px solid #4285f4}.CsQyDc{display:inline-block;color:#70757a}.TuS8Ad{font-size:14px}.HddGcc{padding:8px;color:#70757a}.dzp8ae{font-weight:bold;color:#3c4043}.rEM8G{color:#70757a}.bookcf{table-layout:fixed;width:100%;border-spacing:0}.InWNIe{text-align:center}.uZgmoc{border:thin solid #dadce0;color:#70757a;font-size:14px;text-align:center;table-layout:fixed;width:100%}.frGj1b{display:block;padding:12px 0 12px 0;width:100%}.BnJWBc{text-align:center;padding:6px 0 13px 0;height:35px}.e3goi{vertical-align:top;padding:0;height:180px}.GpQGbf{margin:auto;border-collapse:collapse;border-spacing:0;width:100%}</style></head><body><style>.X6ZCif{color:#202124;font-size:11px;line-height:16px;display:inline-block;padding-top:2px;overflow:hidden;padding-bottom:4px;width:100%}.TwVfHd{border-radius:16px;border:thin solid #dadce0;display:inline-block;padding:8px 8px;margin-right:8px;margin-bottom:4px}.yekiAe{background-color:#dadce0}.mnTahd{width:100%}.ezO2md{border:thin solid #dadce0;padding:12px 16px 12px 16px;margin-bottom:10px;font-family:arial,sans-serif}.lIMUZd{font-family:arial,sans-serif}.IkMU6e{border-spacing:0}.SjCsie{width:100%}.EnarA{text-align:center}.NZWO1b{width:162px;height:140px;line-height:140px;overflow:'hidden';text-align:center}.yWs4tf{text-align:center;margin:auto;vertical-align:middle;max-width:162px;max-height:140px}.jB2rPd{padding-top:2px;padding-bottom:8px;}.fYyStc{word-break:break-word}.ynsChf{display:block;white-space:nowrap;overflow:hidden;text-overflow:ellipsis}.Fj3V3b{color:#1967d2;font-size:14px;line-height:20px}.FrIlee{color:#202124;font-size:11px;line-height:16px}.F9iS2e{color:#70757a;font-size:11px;line-height:16px}.WMQ2Le{color:#70757a;font-size:12px;line-height:16px}.x3G5ab{color:#202124;font-size:12px;line-height:16px}.fuLhoc{color:#1967d2;font-size:16px;line-height:20px}.epoveb{font-size:24px;line-height:28px;font-weight:400;color:#202124}.dXDvrc{color:#0d652d;font-size:14px;line-height:20px;word-wrap:break-word}.dloBPe{font-weight:bold}.YVIcad{color:#70757a}.JkVVdd{color:#ea4335}.oXZRFd{color:#ea4335}.MQHtg{color:#fbbc04}.pyMRrb{color:#1e8e3e}.EtTZid{color:#1e8e3e}.M3vVJe{color:#1967d2}.qXLe6d{display:block}.NHQNef{font-style:italic}.Cb8Z7c{white-space:pre}a.ZWRArf{text-decoration:none}a .CVA68e:hover{text-decoration:underline}</style><div class=\"n692Zd\"><div class=\"BnJWBc\"><a class=\"lXLRf\" href=\"/?sca_esv=560376192&amp;bih=739&amp;biw=1536&amp;rlz=1C1CHBD_enIN1040IN1040&amp;output=images&amp;ie=UTF-8&amp;tbm=isch&amp;sa=X&amp;ved=0ahUKEwj-nIj_l_uAAxWBb2wGHT2LACMQPAgC\"><img alt=\"Google\" class=\"kgJEQe\" src=\"/images/branding/searchlogo/1x/googlelogo_desk_heirloom_color_150x55dp.gif\"/></a></div><div class=\"FbhRzb\"><form action=\"/search\"><input name=\"sca_esv\" type=\"hidden\" value=\"560376192\"/><input name=\"bih\" type=\"hidden\" value=\"739\"/><input name=\"biw\" type=\"hidden\" value=\"1536\"/><input name=\"rlz\" type=\"hidden\" value=\"1C1CHBD_enIN1040IN1040\"/><input name=\"ie\" type=\"hidden\" value=\"ISO-8859-1\"/><input name=\"tbm\" type=\"hidden\" value=\"isch\"/><input name=\"oq\" type=\"hidden\"/><input name=\"aqs\" type=\"hidden\"/><table class=\"cvifge\"><tr><td class=\"O4cRJf\"><input class=\"MhzMZd\" name=\"q\" type=\"text\" value=\"padayappa toy\"/></td><td class=\"O1ePr\"><input class=\"xB0fq\" type=\"submit\" value=\"Search\"/></td></tr></table></form></div><div class=\"M7pB2\"><table class=\"euZec\"><tbody><tr><td><a class=\"CsQyDc\" href=\"/search?q=padayappa+toy&amp;sca_esv=560376192&amp;bih=739&amp;biw=1536&amp;rlz=1C1CHBD_enIN1040IN1040&amp;ie=UTF-8&amp;source=lnms&amp;sa=X&amp;ved=0ahUKEwj-nIj_l_uAAxWBb2wGHT2LACMQ_AUIBCgA\">ALL</a></td><td class=\"EY24We\"><span class=\"QIqI7\">IMAGES</span></td><td><a class=\"CsQyDc\" href=\"/search?q=padayappa+toy&amp;sca_esv=560376192&amp;bih=739&amp;biw=1536&amp;rlz=1C1CHBD_enIN1040IN1040&amp;ie=UTF-8&amp;tbm=vid&amp;source=lnms&amp;sa=X&amp;ved=0ahUKEwj-nIj_l_uAAxWBb2wGHT2LACMQ_AUIBigC\">VIDEOS</a></td><td><a class=\"CsQyDc\" href=\"/search?q=padayappa+toy&amp;sca_esv=560376192&amp;bih=739&amp;biw=1536&amp;rlz=1C1CHBD_enIN1040IN1040&amp;ie=UTF-8&amp;tbm=nws&amp;source=lnms&amp;sa=X&amp;ved=0ahUKEwj-nIj_l_uAAxWBb2wGHT2LACMQ_AUIBygD\">NEWS</a></td></tr></tbody></table></div></div><div class=\"X6ZCif\"><a class=\"TwVfHd\" href=\"/search?sca_esv=560376192&amp;bih=739&amp;biw=1536&amp;rlz=1C1CHBD_enIN1040IN1040&amp;ie=UTF-8&amp;tbm=isch&amp;q=padayappa+toy&amp;chips=q:padayappa+toy,online_chips:padayappa+song&amp;sa=X&amp;ved=0ahUKEwj-nIj_l_uAAxWBb2wGHT2LACMQ4lYICygA\">padayappa song</a><a class=\"TwVfHd\" href=\"/search?sca_esv=560376192&amp;bih=739&amp;biw=1536&amp;rlz=1C1CHBD_enIN1040IN1040&amp;ie=UTF-8&amp;tbm=isch&amp;q=padayappa+toy&amp;chips=q:padayappa+toy,online_chips:detergent&amp;sa=X&amp;ved=0ahUKEwj-nIj_l_uAAxWBb2wGHT2LACMQ4lYIDCgB\">detergent</a><a class=\"TwVfHd\" href=\"/search?sca_esv=560376192&amp;bih=739&amp;biw=1536&amp;rlz=1C1CHBD_enIN1040IN1040&amp;ie=UTF-8&amp;tbm=isch&amp;q=padayappa+toy&amp;chips=q:padayappa+toy,online_chips:car&amp;sa=X&amp;ved=0ahUKEwj-nIj_l_uAAxWBb2wGHT2LACMQ4lYIDSgC\">car</a><a class=\"TwVfHd\" href=\"/search?sca_esv=560376192&amp;bih=739&amp;biw=1536&amp;rlz=1C1CHBD_enIN1040IN1040&amp;ie=UTF-8&amp;tbm=isch&amp;q=padayappa+toy&amp;chips=q:padayappa+toy,online_chips:audio+cd&amp;sa=X&amp;ved=0ahUKEwj-nIj_l_uAAxWBb2wGHT2LACMQ4lYIDigD\">audio cd</a><a class=\"TwVfHd\" href=\"/search?sca_esv=560376192&amp;bih=739&amp;biw=1536&amp;rlz=1C1CHBD_enIN1040IN1040&amp;ie=UTF-8&amp;tbm=isch&amp;q=padayappa+toy&amp;chips=q:padayappa+toy,online_chips:action+figure&amp;sa=X&amp;ved=0ahUKEwj-nIj_l_uAAxWBb2wGHT2LACMQ4lYIDygE\">action figure</a><a class=\"TwVfHd\" href=\"/search?sca_esv=560376192&amp;bih=739&amp;biw=1536&amp;rlz=1C1CHBD_enIN1040IN1040&amp;ie=UTF-8&amp;tbm=isch&amp;q=padayappa+toy&amp;chips=q:padayappa+toy,online_chips:rajinikanth&amp;sa=X&amp;ved=0ahUKEwj-nIj_l_uAAxWBb2wGHT2LACMQ4lYIECgF\">rajinikanth</a><a class=\"TwVfHd\" href=\"/search?sca_esv=560376192&amp;bih=739&amp;biw=1536&amp;rlz=1C1CHBD_enIN1040IN1040&amp;ie=UTF-8&amp;tbm=isch&amp;q=padayappa+toy&amp;chips=q:padayappa+toy,online_chips:padayappa+tamil+movie&amp;sa=X&amp;ved=0ahUKEwj-nIj_l_uAAxWBb2wGHT2LACMQ4lYIESgG\">padayappa tamil movie</a><a class=\"TwVfHd\" href=\"/search?sca_esv=560376192&amp;bih=739&amp;biw=1536&amp;rlz=1C1CHBD_enIN1040IN1040&amp;ie=UTF-8&amp;tbm=isch&amp;q=padayappa+toy&amp;chips=q:padayappa+toy,online_chips:padayappa+movie&amp;sa=X&amp;ved=0ahUKEwj-nIj_l_uAAxWBb2wGHT2LACMQ4lYIEigH\">padayappa movie</a><a class=\"TwVfHd\" href=\"/search?sca_esv=560376192&amp;bih=739&amp;biw=1536&amp;rlz=1C1CHBD_enIN1040IN1040&amp;ie=UTF-8&amp;tbm=isch&amp;q=padayappa+toy&amp;chips=q:padayappa+toy,online_chips:beard&amp;sa=X&amp;ved=0ahUKEwj-nIj_l_uAAxWBb2wGHT2LACMQ4lYIEygI\">beard</a><a class=\"TwVfHd\" href=\"/search?sca_esv=560376192&amp;bih=739&amp;biw=1536&amp;rlz=1C1CHBD_enIN1040IN1040&amp;ie=UTF-8&amp;tbm=isch&amp;q=padayappa+toy&amp;chips=q:padayappa+toy,online_chips:rajinikanth+padayappa&amp;sa=X&amp;ved=0ahUKEwj-nIj_l_uAAxWBb2wGHT2LACMQ4lYIFCgJ\">rajinikanth padayappa</a></div><div><table class=\"GpQGbf\"><tr><td align=\"center\" class=\"e3goi\"><div class=\"mnTahd\"> <div> <div class=\"lIMUZd\"><div><table class=\"IkMU6e\"><tr><td><a href=\"/url?q=https://www.carousell.sg/p/pre-order-rajinikanth-padayappa-figurine-1132544627/&amp;sa=U&amp;ved=2ahUKEwj-nIj_l_uAAxWBb2wGHT2LACMQqoUBegQIBxAB&amp;usg=AOvVaw1FyGs-tx4ADea_nvsnVyQu\"><div class=\"NZWO1b\"><img alt=\"\" class=\"yWs4tf\" src=\"https://encrypted-tbn0.gstatic.com/images?q=tbn:ANd9GcSnCB0_mw-HP8bUsp76uoc-lYMUVed1vh5bSGNEfzl9hguSvDxKZuTtaE-E2uA&amp;s\"/></div></a></td></tr><tr><td><a href=\"/url?q=https://www.carousell.sg/p/pre-order-rajinikanth-padayappa-figurine-1132544627/&amp;sa=U&amp;ved=2ahUKEwj-nIj_l_uAAxWBb2wGHT2LACMQr4kDegQIBxAC&amp;usg=AOvVaw31vwJN3azCXSaQL3NTVPZL\"><div class=\"jB2rPd\"> <span class=\"qXLe6d x3G5ab\"> <span class=\"fYyStc\">Pre-Order Rajinikanth...</span> </span> <span class=\"qXLe6d F9iS2e\"> <span class=\"fYyStc\">www.carousell.sg</span> </span> </div></a></td></tr></table></div></div> </div> </div></td><td align=\"center\" class=\"e3goi\"><div class=\"mnTahd\"> <div> <div class=\"lIMUZd\"><div><table class=\"IkMU6e\"><tr><td><a href=\"/url?q=https://www.instagram.com/nightwolf_collectibles/&amp;sa=U&amp;ved=2ahUKEwj-nIj_l_uAAxWBb2wGHT2LACMQqoUBegQIEhAB&amp;usg=AOvVaw3u3UTthqQiuXJZ0gSk8-c8\"><div class=\"NZWO1b\"><img alt=\"\" class=\"yWs4tf\" src=\"https://encrypted-tbn0.gstatic.com/images?q=tbn:ANd9GcSUbx5fFUIwqIZb5pQmTA9o37V2D-jNdaDR-PmNa1lasWAEZM089CR77Ogcmkc&amp;s\"/></div></a></td></tr><tr><td><a href=\"/url?q=https://www.instagram.com/nightwolf_collectibles/&amp;sa=U&amp;ved=2ahUKEwj-nIj_l_uAAxWBb2wGHT2LACMQr4kDegQIEhAC&amp;usg=AOvVaw3rysGOGBEPthsRZG19tkXc\"><div class=\"jB2rPd\"> <span class=\"qXLe6d x3G5ab\"> <span class=\"fYyStc\">Night Wolf Collectibles...</span> </span> <span class=\"qXLe6d F9iS2e\"> <span class=\"fYyStc\">www.instagram.com</span> </span> </div></a></td></tr></table></div></div> </div> </div></td><td align=\"center\" class=\"e3goi\"><div class=\"mnTahd\"> <div> <div class=\"lIMUZd\"><div><table class=\"IkMU6e\"><tr><td><a href=\"/url?q=https://www.carousell.sg/p/pre-order-rajinikanth-padayappa-figurine-1132544627/&amp;sa=U&amp;ved=2ahUKEwj-nIj_l_uAAxWBb2wGHT2LACMQqoUBegQIExAB&amp;usg=AOvVaw3bhCNomiAaY3S38qoBANR1\"><div class=\"NZWO1b\"><img alt=\"\" class=\"yWs4tf\" src=\"https://encrypted-tbn0.gstatic.com/images?q=tbn:ANd9GcS5OzmPTAvwQ-hwpsNqANqKQML9HQS9SGX_ZZ5mPObC7eYd6K26Z1VHyNHGm1s&amp;s\"/></div></a></td></tr><tr><td><a href=\"/url?q=https://www.carousell.sg/p/pre-order-rajinikanth-padayappa-figurine-1132544627/&amp;sa=U&amp;ved=2ahUKEwj-nIj_l_uAAxWBb2wGHT2LACMQr4kDegQIExAC&amp;usg=AOvVaw2dXj4_oXf0z9NcbOD5Bjir\"><div class=\"jB2rPd\"> <span class=\"qXLe6d x3G5ab\"> <span class=\"fYyStc\">Pre-Order Rajinikanth...</span> </span> <span class=\"qXLe6d F9iS2e\"> <span class=\"fYyStc\">www.carousell.sg</span> </span> </div></a></td></tr></table></div></div> </div> </div></td><td align=\"center\" class=\"e3goi\"><div class=\"mnTahd\"> <div> <div class=\"lIMUZd\"><div><table class=\"IkMU6e\"><tr><td><a href=\"/url?q=https://www.instagram.com/nightwolf_collectibles/&amp;sa=U&amp;ved=2ahUKEwj-nIj_l_uAAxWBb2wGHT2LACMQqoUBegQIERAB&amp;usg=AOvVaw2P6EmR3fB41tTxugkKnkNW\"><div class=\"NZWO1b\"><img alt=\"\" class=\"yWs4tf\" src=\"https://encrypted-tbn0.gstatic.com/images?q=tbn:ANd9GcRSXi7XWqIBWc-Dqtm_fxCR1OhTOLuvC85BKqCHS16zzQENXodX5lX9a5Nvtrg&amp;s\"/></div></a></td></tr><tr><td><a href=\"/url?q=https://www.instagram.com/nightwolf_collectibles/&amp;sa=U&amp;ved=2ahUKEwj-nIj_l_uAAxWBb2wGHT2LACMQr4kDegQIERAC&amp;usg=AOvVaw2PKoq2zJwB2bRrefoKpBnx\"><div class=\"jB2rPd\"> <span class=\"qXLe6d x3G5ab\"> <span class=\"fYyStc\">Night Wolf Collectibles...</span> </span> <span class=\"qXLe6d F9iS2e\"> <span class=\"fYyStc\">www.instagram.com</span> </span> </div></a></td></tr></table></div></div> </div> </div></td></tr><tr><td align=\"center\" class=\"e3goi\"><div class=\"mnTahd\"> <div> <div class=\"lIMUZd\"><div><table class=\"IkMU6e\"><tr><td><a href=\"/url?q=https://www.instagram.com/nightwolf_collectibles/&amp;sa=U&amp;ved=2ahUKEwj-nIj_l_uAAxWBb2wGHT2LACMQqoUBegQICxAB&amp;usg=AOvVaw2XJ3H1mxTznU2Fw6fcxrNC\"><div class=\"NZWO1b\"><img alt=\"\" class=\"yWs4tf\" src=\"https://encrypted-tbn0.gstatic.com/images?q=tbn:ANd9GcS8SLOV0GjAg4jLJ_kuTgLj-g-idolZcJLq64L7mprI0FRogOlUXtV3q0h0oA&amp;s\"/></div></a></td></tr><tr><td><a href=\"/url?q=https://www.instagram.com/nightwolf_collectibles/&amp;sa=U&amp;ved=2ahUKEwj-nIj_l_uAAxWBb2wGHT2LACMQr4kDegQICxAC&amp;usg=AOvVaw3lJUKNnhKA79MYFdtsXN1h\"><div class=\"jB2rPd\"> <span class=\"qXLe6d x3G5ab\"> <span class=\"fYyStc\">Night Wolf Collectibles...</span> </span> <span class=\"qXLe6d F9iS2e\"> <span class=\"fYyStc\">www.instagram.com</span> </span> </div></a></td></tr></table></div></div> </div> </div></td><td align=\"center\" class=\"e3goi\"><div class=\"mnTahd\"> <div> <div class=\"lIMUZd\"><div><table class=\"IkMU6e\"><tr><td><a href=\"/url?q=https://www.amazon.in/Generic-Padayappa-Dhoti-Mulam-mtr/dp/B0BDF3BQ7B&amp;sa=U&amp;ved=2ahUKEwj-nIj_l_uAAxWBb2wGHT2LACMQqoUBegQIDBAB&amp;usg=AOvVaw1CMK_X1hAPnLSpFl4OUqN4\"><div class=\"NZWO1b\"><img alt=\"\" class=\"yWs4tf\" src=\"https://encrypted-tbn0.gstatic.com/images?q=tbn:ANd9GcQcbmh8DsyevsSaUZvztFJjRQyFZGMa7pZnQ5g1IRAk8prQx_tTyLAzNlJwdMU&amp;s\"/></div></a></td></tr><tr><td><a href=\"/url?q=https://www.amazon.in/Generic-Padayappa-Dhoti-Mulam-mtr/dp/B0BDF3BQ7B&amp;sa=U&amp;ved=2ahUKEwj-nIj_l_uAAxWBb2wGHT2LACMQr4kDegQIDBAC&amp;usg=AOvVaw2l69QXl2e2rsnAid0_uU2w\"><div class=\"jB2rPd\"> <span class=\"qXLe6d x3G5ab\"> <span class=\"fYyStc\">Padayappa Dhoti 4 Mulam (2...</span> </span> <span class=\"qXLe6d F9iS2e\"> <span class=\"fYyStc\">www.amazon.in</span> </span> </div></a></td></tr></table></div></div> </div> </div></td><td align=\"center\" class=\"e3goi\"><div class=\"mnTahd\"> <div> <div class=\"lIMUZd\"><div><table class=\"IkMU6e\"><tr><td><a href=\"/url?q=https://www.instagram.com/nightwolf_collectibles/&amp;sa=U&amp;ved=2ahUKEwj-nIj_l_uAAxWBb2wGHT2LACMQqoUBegQIDxAB&amp;usg=AOvVaw2HUgCdjsXrZDHosi4iRByY\"><div class=\"NZWO1b\"><img alt=\"\" class=\"yWs4tf\" src=\"https://encrypted-tbn0.gstatic.com/images?q=tbn:ANd9GcTGleEEnh5iIqlkWKOynjyjr44YRCQPqQqj2np7uIQab5C-gTOYegYE0KEKMQ&amp;s\"/></div></a></td></tr><tr><td><a href=\"/url?q=https://www.instagram.com/nightwolf_collectibles/&amp;sa=U&amp;ved=2ahUKEwj-nIj_l_uAAxWBb2wGHT2LACMQr4kDegQIDxAC&amp;usg=AOvVaw1sTI_cgo0O39n6DRlUiCBM\"><div class=\"jB2rPd\"> <span class=\"qXLe6d x3G5ab\"> <span class=\"fYyStc\">Night Wolf Collectibles...</span> </span> <span class=\"qXLe6d F9iS2e\"> <span class=\"fYyStc\">www.instagram.com</span> </span> </div></a></td></tr></table></div></div> </div> </div></td><td align=\"center\" class=\"e3goi\"><div class=\"mnTahd\"> <div> <div class=\"lIMUZd\"><div><table class=\"IkMU6e\"><tr><td><a href=\"/url?q=https://www.carousell.sg/p/pre-order-rajinikanth-padayappa-figurine-1132544627/&amp;sa=U&amp;ved=2ahUKEwj-nIj_l_uAAxWBb2wGHT2LACMQqoUBegQIDhAB&amp;usg=AOvVaw1y4uCtiuNkzOZggqiwktIl\"><div class=\"NZWO1b\"><img alt=\"\" class=\"yWs4tf\" src=\"https://encrypted-tbn0.gstatic.com/images?q=tbn:ANd9GcSdHX4no_mL3ePD9uOCnx60AFcYaM428XHxmaSDrZAWxUylJZ0LURBKKR9IJ4I&amp;s\"/></div></a></td></tr><tr><td><a href=\"/url?q=https://www.carousell.sg/p/pre-order-rajinikanth-padayappa-figurine-1132544627/&amp;sa=U&amp;ved=2ahUKEwj-nIj_l_uAAxWBb2wGHT2LACMQr4kDegQIDhAC&amp;usg=AOvVaw2a7BOQfjebrTzqT2zhn7Cq\"><div class=\"jB2rPd\"> <span class=\"qXLe6d x3G5ab\"> <span class=\"fYyStc\">Pre-Order Rajinikanth...</span> </span> <span class=\"qXLe6d F9iS2e\"> <span class=\"fYyStc\">www.carousell.sg</span> </span> </div></a></td></tr></table></div></div> </div> </div></td></tr><tr><td align=\"center\" class=\"e3goi\"><div class=\"mnTahd\"> <div> <div class=\"lIMUZd\"><div><table class=\"IkMU6e\"><tr><td><a href=\"/url?q=https://www.instagram.com/nightwolf_collectibles/&amp;sa=U&amp;ved=2ahUKEwj-nIj_l_uAAxWBb2wGHT2LACMQqoUBegQIEBAB&amp;usg=AOvVaw1ryKDiAf7rTME1gTNOxdW-\"><div class=\"NZWO1b\"><img alt=\"\" class=\"yWs4tf\" src=\"https://encrypted-tbn0.gstatic.com/images?q=tbn:ANd9GcRWx58k4Ij_5mAbr0upye64UlwK32k2Fqh9dCyYY9810CY-Ljy5gmJDUJdbibw&amp;s\"/></div></a></td></tr><tr><td><a href=\"/url?q=https://www.instagram.com/nightwolf_collectibles/&amp;sa=U&amp;ved=2ahUKEwj-nIj_l_uAAxWBb2wGHT2LACMQr4kDegQIEBAC&amp;usg=AOvVaw1pmzNt1g18DFL653ruxdDP\"><div class=\"jB2rPd\"> <span class=\"qXLe6d x3G5ab\"> <span class=\"fYyStc\">Night Wolf Collectibles...</span> </span> <span class=\"qXLe6d F9iS2e\"> <span class=\"fYyStc\">www.instagram.com</span> </span> </div></a></td></tr></table></div></div> </div> </div></td><td align=\"center\" class=\"e3goi\"><div class=\"mnTahd\"> <div> <div class=\"lIMUZd\"><div><table class=\"IkMU6e\"><tr><td><a href=\"/url?q=https://www.instagram.com/nightwolf_collectibles/&amp;sa=U&amp;ved=2ahUKEwj-nIj_l_uAAxWBb2wGHT2LACMQqoUBegQIDRAB&amp;usg=AOvVaw2viGb7W04C6lEXAons_3_G\"><div class=\"NZWO1b\"><img alt=\"\" class=\"yWs4tf\" src=\"https://encrypted-tbn0.gstatic.com/images?q=tbn:ANd9GcSQwvmTO1TtI2ih9qZaJGJFCWbnRNj_LX4tz0oocuhsmjgRn5CU4llformiJvM&amp;s\"/></div></a></td></tr><tr><td><a href=\"/url?q=https://www.instagram.com/nightwolf_collectibles/&amp;sa=U&amp;ved=2ahUKEwj-nIj_l_uAAxWBb2wGHT2LACMQr4kDegQIDRAC&amp;usg=AOvVaw3HU34kyYy8qDZhteJs6MqH\"><div class=\"jB2rPd\"> <span class=\"qXLe6d x3G5ab\"> <span class=\"fYyStc\">Night Wolf Collectibles...</span> </span> <span class=\"qXLe6d F9iS2e\"> <span class=\"fYyStc\">www.instagram.com</span> </span> </div></a></td></tr></table></div></div> </div> </div></td><td align=\"center\" class=\"e3goi\"><div class=\"mnTahd\"> <div> <div class=\"lIMUZd\"><div><table class=\"IkMU6e\"><tr><td><a href=\"/url?q=https://www.facebook.com/BLTamizha/photos/a.1685449795084278/2351295841833000/%3Ftype%3D3&amp;sa=U&amp;ved=2ahUKEwj-nIj_l_uAAxWBb2wGHT2LACMQqoUBegQICRAB&amp;usg=AOvVaw1Q31jRE7o_UdZnMRmk5apN\"><div class=\"NZWO1b\"><img alt=\"\" class=\"yWs4tf\" src=\"https://encrypted-tbn0.gstatic.com/images?q=tbn:ANd9GcSxKTmVfCb2D1xYCuxxLmv-uMs0T_BiZh1zk8ldflqs5WCXOAnPR9beDYk9x18&amp;s\"/></div></a></td></tr><tr><td><a href=\"/url?q=https://www.facebook.com/BLTamizha/photos/a.1685449795084278/2351295841833000/%3Ftype%3D3&amp;sa=U&amp;ved=2ahUKEwj-nIj_l_uAAxWBb2wGHT2LACMQr4kDegQICRAC&amp;usg=AOvVaw322eSaS5Mw53OKPisFgtV6\"><div class=\"jB2rPd\"> <span class=\"qXLe6d x3G5ab\"> <span class=\"fYyStc\">Be Like Tamizha - Itha...</span> </span> <span class=\"qXLe6d F9iS2e\"> <span class=\"fYyStc\">www.facebook.com</span> </span> </div></a></td></tr></table></div></div> </div> </div></td><td align=\"center\" class=\"e3goi\"><div class=\"mnTahd\"> <div> <div class=\"lIMUZd\"><div><table class=\"IkMU6e\"><tr><td><a href=\"/url?q=https://www.amazon.in/Generic-Padayappa-Dhoti-Mulam-mtr/dp/B0BDF3BQ7B&amp;sa=U&amp;ved=2ahUKEwj-nIj_l_uAAxWBb2wGHT2LACMQqoUBegQIChAB&amp;usg=AOvVaw3QhMPuyvYigKOzzYVeOa8O\"><div class=\"NZWO1b\"><img alt=\"\" class=\"yWs4tf\" src=\"https://encrypted-tbn0.gstatic.com/images?q=tbn:ANd9GcTbXJRw2qOnqj_67x1Pp-hw2Vb3DiqBspNAj1DvwkDRwmqDFVsXdyOcz31-9Qo&amp;s\"/></div></a></td></tr><tr><td><a href=\"/url?q=https://www.amazon.in/Generic-Padayappa-Dhoti-Mulam-mtr/dp/B0BDF3BQ7B&amp;sa=U&amp;ved=2ahUKEwj-nIj_l_uAAxWBb2wGHT2LACMQr4kDegQIChAC&amp;usg=AOvVaw14_YjwwMXujf8cV3LdUFh7\"><div class=\"jB2rPd\"> <span class=\"qXLe6d x3G5ab\"> <span class=\"fYyStc\">Padayappa Dhoti 4 Mulam (2...</span> </span> <span class=\"qXLe6d F9iS2e\"> <span class=\"fYyStc\">www.amazon.in</span> </span> </div></a></td></tr></table></div></div> </div> </div></td></tr><tr><td align=\"center\" class=\"e3goi\"><div class=\"mnTahd\"> <div> <div class=\"lIMUZd\"><div><table class=\"IkMU6e\"><tr><td><a href=\"/url?q=https://tamilkadaii.com/products/padayappa-poster&amp;sa=U&amp;ved=2ahUKEwj-nIj_l_uAAxWBb2wGHT2LACMQqoUBegQIARAB&amp;usg=AOvVaw19L5klHuEzj8Ch3RNe1OZu\"><div class=\"NZWO1b\"><img alt=\"\" class=\"yWs4tf\" src=\"https://encrypted-tbn0.gstatic.com/images?q=tbn:ANd9GcS7bmirHp1-0G-Ny5TTxq8F89A_qnlVGa1us-mq6GNUCJRHSDy40Osery8oXcM&amp;s\"/></div></a></td></tr><tr><td><a href=\"/url?q=https://tamilkadaii.com/products/padayappa-poster&amp;sa=U&amp;ved=2ahUKEwj-nIj_l_uAAxWBb2wGHT2LACMQr4kDegQIARAC&amp;usg=AOvVaw0D09ciLVxQxDbZHuvN6KKL\"><div class=\"jB2rPd\"> <span class=\"qXLe6d x3G5ab\"> <span class=\"fYyStc\">Padayappa Poster – Tamil...</span> </span> <span class=\"qXLe6d F9iS2e\"> <span class=\"fYyStc\">tamilkadaii.com</span> </span> </div></a></td></tr></table></div></div> </div> </div></td><td align=\"center\" class=\"e3goi\"><div class=\"mnTahd\"> <div> <div class=\"lIMUZd\"><div><table class=\"IkMU6e\"><tr><td><a href=\"/url?q=https://www.youtube.com/hashtag/padayappamoviesongs&amp;sa=U&amp;ved=2ahUKEwj-nIj_l_uAAxWBb2wGHT2LACMQqoUBegQIBRAB&amp;usg=AOvVaw37yaiB9us7A7CoJuMWLz8P\"><div class=\"NZWO1b\"><img alt=\"\" class=\"yWs4tf\" src=\"https://encrypted-tbn0.gstatic.com/images?q=tbn:ANd9GcQOPyuV7yS5ntiBR28LKii7ijvDgszZ5sp_EwTQHyYQ2Bwx2NTW29jPtjsXBQ&amp;s\"/></div></a></td></tr><tr><td><a href=\"/url?q=https://www.youtube.com/hashtag/padayappamoviesongs&amp;sa=U&amp;ved=2ahUKEwj-nIj_l_uAAxWBb2wGHT2LACMQr4kDegQIBRAC&amp;usg=AOvVaw0mqwPQgZLXT5c8HveeudvV\"><div class=\"jB2rPd\"> <span class=\"qXLe6d x3G5ab\"> <span class=\"fYyStc\">padayappamoviesongs -...</span> </span> <span class=\"qXLe6d F9iS2e\"> <span class=\"fYyStc\">www.youtube.com</span> </span> </div></a></td></tr></table></div></div> </div> </div></td><td align=\"center\" class=\"e3goi\"><div class=\"mnTahd\"> <div> <div class=\"lIMUZd\"><div><table class=\"IkMU6e\"><tr><td><a href=\"/url?q=https://www.amazon.com/Padaiyappa-Sivaji-Ganesan/dp/B07TSFB8RV&amp;sa=U&amp;ved=2ahUKEwj-nIj_l_uAAxWBb2wGHT2LACMQqoUBegQIBBAB&amp;usg=AOvVaw1dWWOHi-OKhZCIaal68hQE\"><div class=\"NZWO1b\"><img alt=\"\" class=\"yWs4tf\" src=\"https://encrypted-tbn0.gstatic.com/images?q=tbn:ANd9GcTwg6PhOjtGI8x3U35Ob9C5352Q7P2Ahpi1I2pHvglGTkr-DzlIEadyuiNU290&amp;s\"/></div></a></td></tr><tr><td><a href=\"/url?q=https://www.amazon.com/Padaiyappa-Sivaji-Ganesan/dp/B07TSFB8RV&amp;sa=U&amp;ved=2ahUKEwj-nIj_l_uAAxWBb2wGHT2LACMQr4kDegQIBBAC&amp;usg=AOvVaw3WBxTCsc8RtUd5e-f-Uq5t\"><div class=\"jB2rPd\"> <span class=\"qXLe6d x3G5ab\"> <span class=\"fYyStc\">Watch Padaiyappa | Prime...</span> </span> <span class=\"qXLe6d F9iS2e\"> <span class=\"fYyStc\">www.amazon.com</span> </span> </div></a></td></tr></table></div></div> </div> </div></td><td align=\"center\" class=\"e3goi\"><div class=\"mnTahd\"> <div> <div class=\"lIMUZd\"><div><table class=\"IkMU6e\"><tr><td><a href=\"/url?q=https://www.amazon.com/TappyMasti-com-Padayappa-Rajini-Tappymasti/dp/B00VJ3IHT8&amp;sa=U&amp;ved=2ahUKEwj-nIj_l_uAAxWBb2wGHT2LACMQqoUBegQIBhAB&amp;usg=AOvVaw1caiu6AH-ekI1fozO4spln\"><div class=\"NZWO1b\"><img alt=\"\" class=\"yWs4tf\" src=\"https://encrypted-tbn0.gstatic.com/images?q=tbn:ANd9GcStw0Myv4m_dKYQm4Vze988MIC-7JQCUdVjwbxh8Bj9KJB-QNZHHwlCao3t2sg&amp;s\"/></div></a></td></tr><tr><td><a href=\"/url?q=https://www.amazon.com/TappyMasti-com-Padayappa-Rajini-Tappymasti/dp/B00VJ3IHT8&amp;sa=U&amp;ved=2ahUKEwj-nIj_l_uAAxWBb2wGHT2LACMQr4kDegQIBhAC&amp;usg=AOvVaw01OHI4ivfzLBejKEpgNdjP\"><div class=\"jB2rPd\"> <span class=\"qXLe6d x3G5ab\"> <span class=\"fYyStc\">Padayappa Rajini...</span> </span> <span class=\"qXLe6d F9iS2e\"> <span class=\"fYyStc\">www.amazon.com</span> </span> </div></a></td></tr></table></div></div> </div> </div></td></tr><tr><td align=\"center\" class=\"e3goi\"><div class=\"mnTahd\"> <div> <div class=\"lIMUZd\"><div><table class=\"IkMU6e\"><tr><td><a href=\"/url?q=https://www.amazon.com/TappyMasti-com-Padayappa-Rajini-Tappymasti/dp/B00VJ3IHT8&amp;sa=U&amp;ved=2ahUKEwj-nIj_l_uAAxWBb2wGHT2LACMQqoUBegQIAhAB&amp;usg=AOvVaw0mMwRyrsBS07C6zKgdpi9Q\"><div class=\"NZWO1b\"><img alt=\"\" class=\"yWs4tf\" src=\"https://encrypted-tbn0.gstatic.com/images?q=tbn:ANd9GcQVkG6TAngCyeh8n3Un2beByks_0XARMcFGI4iuiVhP6MN6bfJviIB4V3dJgQ&amp;s\"/></div></a></td></tr><tr><td><a href=\"/url?q=https://www.amazon.com/TappyMasti-com-Padayappa-Rajini-Tappymasti/dp/B00VJ3IHT8&amp;sa=U&amp;ved=2ahUKEwj-nIj_l_uAAxWBb2wGHT2LACMQr4kDegQIAhAC&amp;usg=AOvVaw0B7DD-_QRR4yao-0Fy1_CH\"><div class=\"jB2rPd\"> <span class=\"qXLe6d x3G5ab\"> <span class=\"fYyStc\">Padayappa Rajini...</span> </span> <span class=\"qXLe6d F9iS2e\"> <span class=\"fYyStc\">www.amazon.com</span> </span> </div></a></td></tr></table></div></div> </div> </div></td><td align=\"center\" class=\"e3goi\"><div class=\"mnTahd\"> <div> <div class=\"lIMUZd\"><div><table class=\"IkMU6e\"><tr><td><a href=\"/url?q=https://www.justdial.com/jdmart/Salem/Padayappa-Matic-Detergent-Powder/pid-2014387925/0427PX427-X427-170225143208-G5F1&amp;sa=U&amp;ved=2ahUKEwj-nIj_l_uAAxWBb2wGHT2LACMQqoUBegQIAxAB&amp;usg=AOvVaw3OnKNwkidE3AQRbYKkikut\"><div class=\"NZWO1b\"><img alt=\"\" class=\"yWs4tf\" src=\"https://encrypted-tbn0.gstatic.com/images?q=tbn:ANd9GcRB-fhQryNZ3zpwCAcqTf5dkmJOo_xkSyjkG_94CSYZzgSGHj3886E95TKhKB8&amp;s\"/></div></a></td></tr><tr><td><a href=\"/url?q=https://www.justdial.com/jdmart/Salem/Padayappa-Matic-Detergent-Powder/pid-2014387925/0427PX427-X427-170225143208-G5F1&amp;sa=U&amp;ved=2ahUKEwj-nIj_l_uAAxWBb2wGHT2LACMQr4kDegQIAxAC&amp;usg=AOvVaw2Am7N2GDWZQuXpAgNcVMD9\"><div class=\"jB2rPd\"> <span class=\"qXLe6d x3G5ab\"> <span class=\"fYyStc\">Padayappa Matic Detergent...</span> </span> <span class=\"qXLe6d F9iS2e\"> <span class=\"fYyStc\">www.justdial.com</span> </span> </div></a></td></tr></table></div></div> </div> </div></td><td align=\"center\" class=\"e3goi\"><div class=\"mnTahd\"> <div> <div class=\"lIMUZd\"><div><table class=\"IkMU6e\"><tr><td><a href=\"/url?q=https://www.meesho.com/200-green-padayappa-border-single-dhothi-1-pc/p/17rjrv&amp;sa=U&amp;ved=2ahUKEwj-nIj_l_uAAxWBb2wGHT2LACMQqoUBegQIABAB&amp;usg=AOvVaw2CDjMvu3X92pXpyBpXSWDA\"><div class=\"NZWO1b\"><img alt=\"\" class=\"yWs4tf\" src=\"https://encrypted-tbn0.gstatic.com/images?q=tbn:ANd9GcT0Z28SQQGTJth0hcaywpK7qp7q6SgsKywUKy_gelPyoU02o0KRdXdwvzs9ZJ8&amp;s\"/></div></a></td></tr><tr><td><a href=\"/url?q=https://www.meesho.com/200-green-padayappa-border-single-dhothi-1-pc/p/17rjrv&amp;sa=U&amp;ved=2ahUKEwj-nIj_l_uAAxWBb2wGHT2LACMQr4kDegQIABAC&amp;usg=AOvVaw2Kk92PyuO19ig2SPqMTsIO\"><div class=\"jB2rPd\"> <span class=\"qXLe6d x3G5ab\"> <span class=\"fYyStc\">2.00 GREEN PADAYAPPA BORDER...</span> </span> <span class=\"qXLe6d F9iS2e\"> <span class=\"fYyStc\">www.meesho.com</span> </span> </div></a></td></tr></table></div></div> </div> </div></td><td align=\"center\" class=\"e3goi\"><div class=\"mnTahd\"> <div> <div class=\"lIMUZd\"><div><table class=\"IkMU6e\"><tr><td><a href=\"/url?q=https://www.justdial.com/jdmart/Salem/Padayappa-Metro-Liquid-Detergent-8Ml/pid-2024733512/0427PX427-X427-170225143208-G5F1&amp;sa=U&amp;ved=2ahUKEwj-nIj_l_uAAxWBb2wGHT2LACMQqoUBegQICBAB&amp;usg=AOvVaw0Tmx6bGVUlPg0RXgYNFCWp\"><div class=\"NZWO1b\"><img alt=\"\" class=\"yWs4tf\" src=\"https://encrypted-tbn0.gstatic.com/images?q=tbn:ANd9GcSauJQKLF5-F_4VCBbkzAVRQYCh4wC11wC8KohkvS3eNphLG9hhosmtI3ewvw&amp;s\"/></div></a></td></tr><tr><td><a href=\"/url?q=https://www.justdial.com/jdmart/Salem/Padayappa-Metro-Liquid-Detergent-8Ml/pid-2024733512/0427PX427-X427-170225143208-G5F1&amp;sa=U&amp;ved=2ahUKEwj-nIj_l_uAAxWBb2wGHT2LACMQr4kDegQICBAC&amp;usg=AOvVaw0rKli8fXnVLEHksNKovXgg\"><div class=\"jB2rPd\"> <span class=\"qXLe6d x3G5ab\"> <span class=\"fYyStc\">Padayappa Metro Liquid...</span> </span> <span class=\"qXLe6d F9iS2e\"> <span class=\"fYyStc\">www.justdial.com</span> </span> </div></a></td></tr></table></div></div> </div> </div></td></tr></table></div><table class=\"uZgmoc\"><tbody><td><a class=\"frGj1b\" href=\"/search?q=padayappa+toy&amp;sca_esv=560376192&amp;bih=739&amp;biw=1536&amp;rlz=1C1CHBD_enIN1040IN1040&amp;ie=UTF-8&amp;tbm=isch&amp;ei=tGPqZP7yIoHfseMPvZaCmAI&amp;start=20&amp;sa=N\">Next &gt;</a></td></tbody></table><br/><div class=\"TuS8Ad\" data-ved=\"0ahUKEwj-nIj_l_uAAxWBb2wGHT2LACMQpyoIUg\"><style>.VYM29{font-weight:bold}</style><div align=\"center\" class=\"HddGcc\"><span class=\"VYM29\">560032, Bengaluru, Karnataka</span><span> - </span><span>From your IP address</span><span> - </span><a href=\"/url?q=https://support.google.com/websearch%3Fp%3Dws_settings_location%26hl%3Den-IN&amp;sa=U&amp;ved=0ahUKEwj-nIj_l_uAAxWBb2wGHT2LACMQty4IUw&amp;usg=AOvVaw3T6UZmWV0PcqO_DNa5RLcq\">Learn more</a></div><div align=\"center\"><a class=\"rEM8G\" href=\"/url?q=https://accounts.google.com/ServiceLogin%3Fcontinue%3Dhttps://www.google.com/search%253Fq%253Dpadayappa%252Btoy%2526tbm%253Disch%2526ved%253D2ahUKEwj3i_P1hvuAAxVWzaACHeMVCQQQ2-cCegQIABAA%2526oq%253Draji%2526gs_lcp%253DCgNpbWcQARgCMgcIABCKBRBDMgcIABCKBRBDMg0IABCKBRCxAxCDARBDMgcIABCKBRBDMggIABCABBCxAzIICAAQgAQQsQMyBwgAEIoFEEMyBwgAEIoFEEMyBwgAEIoFEEMyCAgAEIAEELEDOgQIIxAnOgcIIxDqAhAnOgsIABCABBCxAxCDAToFCAAQgAQ6CAgAELEDEIMBUN0bWJ9CYIdcaANwAHgAgAHzAYgB_AqSAQUwLjMuNJgBAKABAaoBC2d3cy13aXotaW1nsAECwAEB%2526sclient%253Dimg%2526ei%253DzVHqZLfxOdaag8UP46ukIA%2526bih%253D739%2526biw%253D1536%2526rlz%253D1C1CHBD_enIN1040IN1040%26hl%3Den&amp;sa=U&amp;ved=0ahUKEwj-nIj_l_uAAxWBb2wGHT2LACMQxs8CCFQ&amp;usg=AOvVaw0ashSh0GM5BJSNYjNRSNmS\">Sign in</a></div><div><table class=\"bookcf\"><tbody class=\"InWNIe\"><tr><td><a class=\"rEM8G\" href=\"https://www.google.com/preferences?hl=en&amp;sa=X&amp;ved=0ahUKEwj-nIj_l_uAAxWBb2wGHT2LACMQv5YECFU\">Settings</a></td><td><a class=\"rEM8G\" href=\"https://www.google.com/intl/en_in/policies/privacy/\">Privacy</a></td><td><a class=\"rEM8G\" href=\"https://www.google.com/intl/en_in/policies/terms/\">Terms</a></td></tr></tbody></table></div></div><div> </div></body></html>"
      ]
     },
     "execution_count": 27,
     "metadata": {},
     "output_type": "execute_result"
    }
   ],
   "source": [
    "soup"
   ]
  },
  {
   "cell_type": "code",
   "execution_count": 28,
   "id": "893f0dc7-9414-4045-a5d7-511de6cc6913",
   "metadata": {},
   "outputs": [],
   "source": [
    "image_tags=soup.find_all(\"img\")"
   ]
  },
  {
   "cell_type": "code",
   "execution_count": 29,
   "id": "ff880f20-610c-4e82-a7b4-a986a4e64168",
   "metadata": {},
   "outputs": [
    {
     "data": {
      "text/plain": [
       "[<img alt=\"Google\" class=\"kgJEQe\" src=\"/images/branding/searchlogo/1x/googlelogo_desk_heirloom_color_150x55dp.gif\"/>,\n",
       " <img alt=\"\" class=\"yWs4tf\" src=\"https://encrypted-tbn0.gstatic.com/images?q=tbn:ANd9GcSnCB0_mw-HP8bUsp76uoc-lYMUVed1vh5bSGNEfzl9hguSvDxKZuTtaE-E2uA&amp;s\"/>,\n",
       " <img alt=\"\" class=\"yWs4tf\" src=\"https://encrypted-tbn0.gstatic.com/images?q=tbn:ANd9GcSUbx5fFUIwqIZb5pQmTA9o37V2D-jNdaDR-PmNa1lasWAEZM089CR77Ogcmkc&amp;s\"/>,\n",
       " <img alt=\"\" class=\"yWs4tf\" src=\"https://encrypted-tbn0.gstatic.com/images?q=tbn:ANd9GcS5OzmPTAvwQ-hwpsNqANqKQML9HQS9SGX_ZZ5mPObC7eYd6K26Z1VHyNHGm1s&amp;s\"/>,\n",
       " <img alt=\"\" class=\"yWs4tf\" src=\"https://encrypted-tbn0.gstatic.com/images?q=tbn:ANd9GcRSXi7XWqIBWc-Dqtm_fxCR1OhTOLuvC85BKqCHS16zzQENXodX5lX9a5Nvtrg&amp;s\"/>,\n",
       " <img alt=\"\" class=\"yWs4tf\" src=\"https://encrypted-tbn0.gstatic.com/images?q=tbn:ANd9GcS8SLOV0GjAg4jLJ_kuTgLj-g-idolZcJLq64L7mprI0FRogOlUXtV3q0h0oA&amp;s\"/>,\n",
       " <img alt=\"\" class=\"yWs4tf\" src=\"https://encrypted-tbn0.gstatic.com/images?q=tbn:ANd9GcQcbmh8DsyevsSaUZvztFJjRQyFZGMa7pZnQ5g1IRAk8prQx_tTyLAzNlJwdMU&amp;s\"/>,\n",
       " <img alt=\"\" class=\"yWs4tf\" src=\"https://encrypted-tbn0.gstatic.com/images?q=tbn:ANd9GcTGleEEnh5iIqlkWKOynjyjr44YRCQPqQqj2np7uIQab5C-gTOYegYE0KEKMQ&amp;s\"/>,\n",
       " <img alt=\"\" class=\"yWs4tf\" src=\"https://encrypted-tbn0.gstatic.com/images?q=tbn:ANd9GcSdHX4no_mL3ePD9uOCnx60AFcYaM428XHxmaSDrZAWxUylJZ0LURBKKR9IJ4I&amp;s\"/>,\n",
       " <img alt=\"\" class=\"yWs4tf\" src=\"https://encrypted-tbn0.gstatic.com/images?q=tbn:ANd9GcRWx58k4Ij_5mAbr0upye64UlwK32k2Fqh9dCyYY9810CY-Ljy5gmJDUJdbibw&amp;s\"/>,\n",
       " <img alt=\"\" class=\"yWs4tf\" src=\"https://encrypted-tbn0.gstatic.com/images?q=tbn:ANd9GcSQwvmTO1TtI2ih9qZaJGJFCWbnRNj_LX4tz0oocuhsmjgRn5CU4llformiJvM&amp;s\"/>,\n",
       " <img alt=\"\" class=\"yWs4tf\" src=\"https://encrypted-tbn0.gstatic.com/images?q=tbn:ANd9GcSxKTmVfCb2D1xYCuxxLmv-uMs0T_BiZh1zk8ldflqs5WCXOAnPR9beDYk9x18&amp;s\"/>,\n",
       " <img alt=\"\" class=\"yWs4tf\" src=\"https://encrypted-tbn0.gstatic.com/images?q=tbn:ANd9GcTbXJRw2qOnqj_67x1Pp-hw2Vb3DiqBspNAj1DvwkDRwmqDFVsXdyOcz31-9Qo&amp;s\"/>,\n",
       " <img alt=\"\" class=\"yWs4tf\" src=\"https://encrypted-tbn0.gstatic.com/images?q=tbn:ANd9GcS7bmirHp1-0G-Ny5TTxq8F89A_qnlVGa1us-mq6GNUCJRHSDy40Osery8oXcM&amp;s\"/>,\n",
       " <img alt=\"\" class=\"yWs4tf\" src=\"https://encrypted-tbn0.gstatic.com/images?q=tbn:ANd9GcQOPyuV7yS5ntiBR28LKii7ijvDgszZ5sp_EwTQHyYQ2Bwx2NTW29jPtjsXBQ&amp;s\"/>,\n",
       " <img alt=\"\" class=\"yWs4tf\" src=\"https://encrypted-tbn0.gstatic.com/images?q=tbn:ANd9GcTwg6PhOjtGI8x3U35Ob9C5352Q7P2Ahpi1I2pHvglGTkr-DzlIEadyuiNU290&amp;s\"/>,\n",
       " <img alt=\"\" class=\"yWs4tf\" src=\"https://encrypted-tbn0.gstatic.com/images?q=tbn:ANd9GcStw0Myv4m_dKYQm4Vze988MIC-7JQCUdVjwbxh8Bj9KJB-QNZHHwlCao3t2sg&amp;s\"/>,\n",
       " <img alt=\"\" class=\"yWs4tf\" src=\"https://encrypted-tbn0.gstatic.com/images?q=tbn:ANd9GcQVkG6TAngCyeh8n3Un2beByks_0XARMcFGI4iuiVhP6MN6bfJviIB4V3dJgQ&amp;s\"/>,\n",
       " <img alt=\"\" class=\"yWs4tf\" src=\"https://encrypted-tbn0.gstatic.com/images?q=tbn:ANd9GcRB-fhQryNZ3zpwCAcqTf5dkmJOo_xkSyjkG_94CSYZzgSGHj3886E95TKhKB8&amp;s\"/>,\n",
       " <img alt=\"\" class=\"yWs4tf\" src=\"https://encrypted-tbn0.gstatic.com/images?q=tbn:ANd9GcT0Z28SQQGTJth0hcaywpK7qp7q6SgsKywUKy_gelPyoU02o0KRdXdwvzs9ZJ8&amp;s\"/>,\n",
       " <img alt=\"\" class=\"yWs4tf\" src=\"https://encrypted-tbn0.gstatic.com/images?q=tbn:ANd9GcSauJQKLF5-F_4VCBbkzAVRQYCh4wC11wC8KohkvS3eNphLG9hhosmtI3ewvw&amp;s\"/>]"
      ]
     },
     "execution_count": 29,
     "metadata": {},
     "output_type": "execute_result"
    }
   ],
   "source": [
    "image_tags"
   ]
  },
  {
   "cell_type": "code",
   "execution_count": 30,
   "id": "4273314f-3384-4aa4-bc93-83a57002d314",
   "metadata": {},
   "outputs": [
    {
     "data": {
      "text/plain": [
       "<img alt=\"Google\" class=\"kgJEQe\" src=\"/images/branding/searchlogo/1x/googlelogo_desk_heirloom_color_150x55dp.gif\"/>"
      ]
     },
     "execution_count": 30,
     "metadata": {},
     "output_type": "execute_result"
    }
   ],
   "source": [
    "image_tags[0]"
   ]
  },
  {
   "cell_type": "code",
   "execution_count": 31,
   "id": "49db472a-1018-420d-b489-be904763ba1e",
   "metadata": {},
   "outputs": [],
   "source": [
    "del image_tags[0]"
   ]
  },
  {
   "cell_type": "code",
   "execution_count": 32,
   "id": "f851244e-f558-4453-9c37-cc14adf6f033",
   "metadata": {},
   "outputs": [
    {
     "data": {
      "text/plain": [
       "[<img alt=\"\" class=\"yWs4tf\" src=\"https://encrypted-tbn0.gstatic.com/images?q=tbn:ANd9GcSnCB0_mw-HP8bUsp76uoc-lYMUVed1vh5bSGNEfzl9hguSvDxKZuTtaE-E2uA&amp;s\"/>,\n",
       " <img alt=\"\" class=\"yWs4tf\" src=\"https://encrypted-tbn0.gstatic.com/images?q=tbn:ANd9GcSUbx5fFUIwqIZb5pQmTA9o37V2D-jNdaDR-PmNa1lasWAEZM089CR77Ogcmkc&amp;s\"/>,\n",
       " <img alt=\"\" class=\"yWs4tf\" src=\"https://encrypted-tbn0.gstatic.com/images?q=tbn:ANd9GcS5OzmPTAvwQ-hwpsNqANqKQML9HQS9SGX_ZZ5mPObC7eYd6K26Z1VHyNHGm1s&amp;s\"/>,\n",
       " <img alt=\"\" class=\"yWs4tf\" src=\"https://encrypted-tbn0.gstatic.com/images?q=tbn:ANd9GcRSXi7XWqIBWc-Dqtm_fxCR1OhTOLuvC85BKqCHS16zzQENXodX5lX9a5Nvtrg&amp;s\"/>,\n",
       " <img alt=\"\" class=\"yWs4tf\" src=\"https://encrypted-tbn0.gstatic.com/images?q=tbn:ANd9GcS8SLOV0GjAg4jLJ_kuTgLj-g-idolZcJLq64L7mprI0FRogOlUXtV3q0h0oA&amp;s\"/>,\n",
       " <img alt=\"\" class=\"yWs4tf\" src=\"https://encrypted-tbn0.gstatic.com/images?q=tbn:ANd9GcQcbmh8DsyevsSaUZvztFJjRQyFZGMa7pZnQ5g1IRAk8prQx_tTyLAzNlJwdMU&amp;s\"/>,\n",
       " <img alt=\"\" class=\"yWs4tf\" src=\"https://encrypted-tbn0.gstatic.com/images?q=tbn:ANd9GcTGleEEnh5iIqlkWKOynjyjr44YRCQPqQqj2np7uIQab5C-gTOYegYE0KEKMQ&amp;s\"/>,\n",
       " <img alt=\"\" class=\"yWs4tf\" src=\"https://encrypted-tbn0.gstatic.com/images?q=tbn:ANd9GcSdHX4no_mL3ePD9uOCnx60AFcYaM428XHxmaSDrZAWxUylJZ0LURBKKR9IJ4I&amp;s\"/>,\n",
       " <img alt=\"\" class=\"yWs4tf\" src=\"https://encrypted-tbn0.gstatic.com/images?q=tbn:ANd9GcRWx58k4Ij_5mAbr0upye64UlwK32k2Fqh9dCyYY9810CY-Ljy5gmJDUJdbibw&amp;s\"/>,\n",
       " <img alt=\"\" class=\"yWs4tf\" src=\"https://encrypted-tbn0.gstatic.com/images?q=tbn:ANd9GcSQwvmTO1TtI2ih9qZaJGJFCWbnRNj_LX4tz0oocuhsmjgRn5CU4llformiJvM&amp;s\"/>,\n",
       " <img alt=\"\" class=\"yWs4tf\" src=\"https://encrypted-tbn0.gstatic.com/images?q=tbn:ANd9GcSxKTmVfCb2D1xYCuxxLmv-uMs0T_BiZh1zk8ldflqs5WCXOAnPR9beDYk9x18&amp;s\"/>,\n",
       " <img alt=\"\" class=\"yWs4tf\" src=\"https://encrypted-tbn0.gstatic.com/images?q=tbn:ANd9GcTbXJRw2qOnqj_67x1Pp-hw2Vb3DiqBspNAj1DvwkDRwmqDFVsXdyOcz31-9Qo&amp;s\"/>,\n",
       " <img alt=\"\" class=\"yWs4tf\" src=\"https://encrypted-tbn0.gstatic.com/images?q=tbn:ANd9GcS7bmirHp1-0G-Ny5TTxq8F89A_qnlVGa1us-mq6GNUCJRHSDy40Osery8oXcM&amp;s\"/>,\n",
       " <img alt=\"\" class=\"yWs4tf\" src=\"https://encrypted-tbn0.gstatic.com/images?q=tbn:ANd9GcQOPyuV7yS5ntiBR28LKii7ijvDgszZ5sp_EwTQHyYQ2Bwx2NTW29jPtjsXBQ&amp;s\"/>,\n",
       " <img alt=\"\" class=\"yWs4tf\" src=\"https://encrypted-tbn0.gstatic.com/images?q=tbn:ANd9GcTwg6PhOjtGI8x3U35Ob9C5352Q7P2Ahpi1I2pHvglGTkr-DzlIEadyuiNU290&amp;s\"/>,\n",
       " <img alt=\"\" class=\"yWs4tf\" src=\"https://encrypted-tbn0.gstatic.com/images?q=tbn:ANd9GcStw0Myv4m_dKYQm4Vze988MIC-7JQCUdVjwbxh8Bj9KJB-QNZHHwlCao3t2sg&amp;s\"/>,\n",
       " <img alt=\"\" class=\"yWs4tf\" src=\"https://encrypted-tbn0.gstatic.com/images?q=tbn:ANd9GcQVkG6TAngCyeh8n3Un2beByks_0XARMcFGI4iuiVhP6MN6bfJviIB4V3dJgQ&amp;s\"/>,\n",
       " <img alt=\"\" class=\"yWs4tf\" src=\"https://encrypted-tbn0.gstatic.com/images?q=tbn:ANd9GcRB-fhQryNZ3zpwCAcqTf5dkmJOo_xkSyjkG_94CSYZzgSGHj3886E95TKhKB8&amp;s\"/>,\n",
       " <img alt=\"\" class=\"yWs4tf\" src=\"https://encrypted-tbn0.gstatic.com/images?q=tbn:ANd9GcT0Z28SQQGTJth0hcaywpK7qp7q6SgsKywUKy_gelPyoU02o0KRdXdwvzs9ZJ8&amp;s\"/>,\n",
       " <img alt=\"\" class=\"yWs4tf\" src=\"https://encrypted-tbn0.gstatic.com/images?q=tbn:ANd9GcSauJQKLF5-F_4VCBbkzAVRQYCh4wC11wC8KohkvS3eNphLG9hhosmtI3ewvw&amp;s\"/>]"
      ]
     },
     "execution_count": 32,
     "metadata": {},
     "output_type": "execute_result"
    }
   ],
   "source": [
    "image_tags"
   ]
  },
  {
   "cell_type": "code",
   "execution_count": 33,
   "id": "06143ce8-b5ed-48e0-ae8b-f579a6e1a85f",
   "metadata": {},
   "outputs": [
    {
     "data": {
      "text/plain": [
       "20"
      ]
     },
     "execution_count": 33,
     "metadata": {},
     "output_type": "execute_result"
    }
   ],
   "source": [
    "len(image_tags)"
   ]
  },
  {
   "cell_type": "code",
   "execution_count": 34,
   "id": "3868aa95-b0e8-47c2-9f30-14222c9ca58f",
   "metadata": {},
   "outputs": [],
   "source": [
    "save_dir=\"images/\"\n",
    "if not os.path.exists(save_dir):\n",
    "    os.makedirs(save_dir)"
   ]
  },
  {
   "cell_type": "code",
   "execution_count": 35,
   "id": "aa27326d-33d8-4952-9add-b5b6a97af5be",
   "metadata": {},
   "outputs": [],
   "source": [
    "for i in image_tags:\n",
    "    image_url=i['src']\n",
    "    image_data=requests.get(image_url).content\n",
    "    with open(os.path.join(save_dir,f\"{query}_{image_tags.index(i)}.jpg\"),\"wb\") as f:\n",
    "        f.write(image_data)"
   ]
  },
  {
   "cell_type": "code",
   "execution_count": null,
   "id": "2eddb6d1-1404-4ebd-ade7-f8189bfe559e",
   "metadata": {},
   "outputs": [],
   "source": []
  },
  {
   "cell_type": "code",
   "execution_count": null,
   "id": "d4c53021-df42-4c50-8739-f53575ac9820",
   "metadata": {},
   "outputs": [],
   "source": []
  }
 ],
 "metadata": {
  "kernelspec": {
   "display_name": "Python 3 (ipykernel)",
   "language": "python",
   "name": "python3"
  },
  "language_info": {
   "codemirror_mode": {
    "name": "ipython",
    "version": 3
   },
   "file_extension": ".py",
   "mimetype": "text/x-python",
   "name": "python",
   "nbconvert_exporter": "python",
   "pygments_lexer": "ipython3",
   "version": "3.8.17"
  }
 },
 "nbformat": 4,
 "nbformat_minor": 5
}
